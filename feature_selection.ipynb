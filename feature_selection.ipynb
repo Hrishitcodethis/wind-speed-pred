{
 "cells": [
  {
   "cell_type": "code",
   "execution_count": 10,
   "id": "4027c71a",
   "metadata": {},
   "outputs": [],
   "source": [
    "import pandas as pd\n",
    "from sklearn.model_selection import train_test_split\n",
    "import numpy as np\n",
    "from sklearn.metrics import mean_absolute_error, mean_squared_error\n",
    "import matplotlib.pyplot as plt"
   ]
  },
  {
   "cell_type": "code",
   "execution_count": 2,
   "id": "6d716d1a",
   "metadata": {},
   "outputs": [],
   "source": [
    "df = pd.read_csv('/Users/hrishityelchuri/Documents/windPred/raw/8.52 hrishit data.csv')"
   ]
  },
  {
   "cell_type": "code",
   "execution_count": 3,
   "id": "06db2b46",
   "metadata": {},
   "outputs": [
    {
     "data": {
      "text/html": [
       "<div>\n",
       "<style scoped>\n",
       "    .dataframe tbody tr th:only-of-type {\n",
       "        vertical-align: middle;\n",
       "    }\n",
       "\n",
       "    .dataframe tbody tr th {\n",
       "        vertical-align: top;\n",
       "    }\n",
       "\n",
       "    .dataframe thead th {\n",
       "        text-align: right;\n",
       "    }\n",
       "</style>\n",
       "<table border=\"1\" class=\"dataframe\">\n",
       "  <thead>\n",
       "    <tr style=\"text-align: right;\">\n",
       "      <th></th>\n",
       "      <th>PeriodEnd</th>\n",
       "      <th>PeriodStart</th>\n",
       "      <th>Period</th>\n",
       "      <th>AirTemp</th>\n",
       "      <th>Azimuth</th>\n",
       "      <th>CloudOpacity</th>\n",
       "      <th>DewpointTemp</th>\n",
       "      <th>Dhi</th>\n",
       "      <th>Dni</th>\n",
       "      <th>Ebh</th>\n",
       "      <th>...</th>\n",
       "      <th>GtiFixedTilt</th>\n",
       "      <th>GtiTracking</th>\n",
       "      <th>PrecipitableWater</th>\n",
       "      <th>RelativeHumidity</th>\n",
       "      <th>SnowWater</th>\n",
       "      <th>SurfacePressure</th>\n",
       "      <th>WindDirection10m</th>\n",
       "      <th>WindSpeed10m</th>\n",
       "      <th>Zenith</th>\n",
       "      <th>AlbedoDaily</th>\n",
       "    </tr>\n",
       "  </thead>\n",
       "  <tbody>\n",
       "    <tr>\n",
       "      <th>0</th>\n",
       "      <td>2007-01-01T02:00:00Z</td>\n",
       "      <td>2007-01-01T01:00:00Z</td>\n",
       "      <td>PT60M</td>\n",
       "      <td>22.3</td>\n",
       "      <td>-114</td>\n",
       "      <td>23.0</td>\n",
       "      <td>18.9</td>\n",
       "      <td>33</td>\n",
       "      <td>3</td>\n",
       "      <td>0</td>\n",
       "      <td>...</td>\n",
       "      <td>33</td>\n",
       "      <td>33</td>\n",
       "      <td>22.4</td>\n",
       "      <td>81.2</td>\n",
       "      <td>0.0</td>\n",
       "      <td>999.4</td>\n",
       "      <td>66</td>\n",
       "      <td>3.8</td>\n",
       "      <td>85</td>\n",
       "      <td>0.1</td>\n",
       "    </tr>\n",
       "    <tr>\n",
       "      <th>1</th>\n",
       "      <td>2007-01-01T03:00:00Z</td>\n",
       "      <td>2007-01-01T02:00:00Z</td>\n",
       "      <td>PT60M</td>\n",
       "      <td>23.4</td>\n",
       "      <td>-118</td>\n",
       "      <td>13.8</td>\n",
       "      <td>19.2</td>\n",
       "      <td>116</td>\n",
       "      <td>327</td>\n",
       "      <td>122</td>\n",
       "      <td>...</td>\n",
       "      <td>263</td>\n",
       "      <td>440</td>\n",
       "      <td>22.6</td>\n",
       "      <td>77.3</td>\n",
       "      <td>0.0</td>\n",
       "      <td>1000.2</td>\n",
       "      <td>67</td>\n",
       "      <td>3.7</td>\n",
       "      <td>72</td>\n",
       "      <td>0.1</td>\n",
       "    </tr>\n",
       "    <tr>\n",
       "      <th>2</th>\n",
       "      <td>2007-01-01T04:00:00Z</td>\n",
       "      <td>2007-01-01T03:00:00Z</td>\n",
       "      <td>PT60M</td>\n",
       "      <td>24.4</td>\n",
       "      <td>-124</td>\n",
       "      <td>0.0</td>\n",
       "      <td>19.2</td>\n",
       "      <td>119</td>\n",
       "      <td>737</td>\n",
       "      <td>379</td>\n",
       "      <td>...</td>\n",
       "      <td>553</td>\n",
       "      <td>813</td>\n",
       "      <td>22.9</td>\n",
       "      <td>72.9</td>\n",
       "      <td>0.0</td>\n",
       "      <td>1000.5</td>\n",
       "      <td>68</td>\n",
       "      <td>3.7</td>\n",
       "      <td>59</td>\n",
       "      <td>0.1</td>\n",
       "    </tr>\n",
       "    <tr>\n",
       "      <th>3</th>\n",
       "      <td>2007-01-01T05:00:00Z</td>\n",
       "      <td>2007-01-01T04:00:00Z</td>\n",
       "      <td>PT60M</td>\n",
       "      <td>25.3</td>\n",
       "      <td>-133</td>\n",
       "      <td>0.0</td>\n",
       "      <td>18.9</td>\n",
       "      <td>135</td>\n",
       "      <td>831</td>\n",
       "      <td>561</td>\n",
       "      <td>...</td>\n",
       "      <td>759</td>\n",
       "      <td>879</td>\n",
       "      <td>23.4</td>\n",
       "      <td>68.0</td>\n",
       "      <td>0.0</td>\n",
       "      <td>1000.5</td>\n",
       "      <td>71</td>\n",
       "      <td>3.9</td>\n",
       "      <td>48</td>\n",
       "      <td>0.1</td>\n",
       "    </tr>\n",
       "    <tr>\n",
       "      <th>4</th>\n",
       "      <td>2007-01-01T06:00:00Z</td>\n",
       "      <td>2007-01-01T05:00:00Z</td>\n",
       "      <td>PT60M</td>\n",
       "      <td>26.1</td>\n",
       "      <td>-148</td>\n",
       "      <td>4.5</td>\n",
       "      <td>18.7</td>\n",
       "      <td>229</td>\n",
       "      <td>723</td>\n",
       "      <td>564</td>\n",
       "      <td>...</td>\n",
       "      <td>851</td>\n",
       "      <td>858</td>\n",
       "      <td>23.9</td>\n",
       "      <td>63.4</td>\n",
       "      <td>0.0</td>\n",
       "      <td>1000.4</td>\n",
       "      <td>73</td>\n",
       "      <td>4.0</td>\n",
       "      <td>38</td>\n",
       "      <td>0.1</td>\n",
       "    </tr>\n",
       "  </tbody>\n",
       "</table>\n",
       "<p>5 rows × 21 columns</p>\n",
       "</div>"
      ],
      "text/plain": [
       "              PeriodEnd           PeriodStart Period  AirTemp  Azimuth  \\\n",
       "0  2007-01-01T02:00:00Z  2007-01-01T01:00:00Z  PT60M     22.3     -114   \n",
       "1  2007-01-01T03:00:00Z  2007-01-01T02:00:00Z  PT60M     23.4     -118   \n",
       "2  2007-01-01T04:00:00Z  2007-01-01T03:00:00Z  PT60M     24.4     -124   \n",
       "3  2007-01-01T05:00:00Z  2007-01-01T04:00:00Z  PT60M     25.3     -133   \n",
       "4  2007-01-01T06:00:00Z  2007-01-01T05:00:00Z  PT60M     26.1     -148   \n",
       "\n",
       "   CloudOpacity  DewpointTemp  Dhi  Dni  Ebh  ...  GtiFixedTilt  GtiTracking  \\\n",
       "0          23.0          18.9   33    3    0  ...            33           33   \n",
       "1          13.8          19.2  116  327  122  ...           263          440   \n",
       "2           0.0          19.2  119  737  379  ...           553          813   \n",
       "3           0.0          18.9  135  831  561  ...           759          879   \n",
       "4           4.5          18.7  229  723  564  ...           851          858   \n",
       "\n",
       "   PrecipitableWater  RelativeHumidity  SnowWater  SurfacePressure  \\\n",
       "0               22.4              81.2        0.0            999.4   \n",
       "1               22.6              77.3        0.0           1000.2   \n",
       "2               22.9              72.9        0.0           1000.5   \n",
       "3               23.4              68.0        0.0           1000.5   \n",
       "4               23.9              63.4        0.0           1000.4   \n",
       "\n",
       "   WindDirection10m  WindSpeed10m  Zenith  AlbedoDaily  \n",
       "0                66           3.8      85          0.1  \n",
       "1                67           3.7      72          0.1  \n",
       "2                68           3.7      59          0.1  \n",
       "3                71           3.9      48          0.1  \n",
       "4                73           4.0      38          0.1  \n",
       "\n",
       "[5 rows x 21 columns]"
      ]
     },
     "execution_count": 3,
     "metadata": {},
     "output_type": "execute_result"
    }
   ],
   "source": [
    "df.head()"
   ]
  },
  {
   "cell_type": "code",
   "execution_count": 4,
   "id": "20e95e83",
   "metadata": {},
   "outputs": [
    {
     "name": "stdout",
     "output_type": "stream",
     "text": [
      "<class 'pandas.core.frame.DataFrame'>\n",
      "RangeIndex: 137422 entries, 0 to 137421\n",
      "Data columns (total 21 columns):\n",
      " #   Column             Non-Null Count   Dtype  \n",
      "---  ------             --------------   -----  \n",
      " 0   PeriodEnd          137422 non-null  object \n",
      " 1   PeriodStart        137422 non-null  object \n",
      " 2   Period             137422 non-null  object \n",
      " 3   AirTemp            137422 non-null  float64\n",
      " 4   Azimuth            137422 non-null  int64  \n",
      " 5   CloudOpacity       137422 non-null  float64\n",
      " 6   DewpointTemp       137422 non-null  float64\n",
      " 7   Dhi                137422 non-null  int64  \n",
      " 8   Dni                137422 non-null  int64  \n",
      " 9   Ebh                137422 non-null  int64  \n",
      " 10  Ghi                137422 non-null  int64  \n",
      " 11  GtiFixedTilt       137422 non-null  int64  \n",
      " 12  GtiTracking        137422 non-null  int64  \n",
      " 13  PrecipitableWater  137422 non-null  float64\n",
      " 14  RelativeHumidity   137422 non-null  float64\n",
      " 15  SnowWater          137422 non-null  float64\n",
      " 16  SurfacePressure    137422 non-null  float64\n",
      " 17  WindDirection10m   137422 non-null  int64  \n",
      " 18  WindSpeed10m       137422 non-null  float64\n",
      " 19  Zenith             137422 non-null  int64  \n",
      " 20  AlbedoDaily        137422 non-null  float64\n",
      "dtypes: float64(9), int64(9), object(3)\n",
      "memory usage: 22.0+ MB\n"
     ]
    }
   ],
   "source": [
    "df.info()"
   ]
  },
  {
   "cell_type": "code",
   "execution_count": 5,
   "id": "4ad85773",
   "metadata": {},
   "outputs": [
    {
     "data": {
      "text/plain": [
       "(137422, 21)"
      ]
     },
     "execution_count": 5,
     "metadata": {},
     "output_type": "execute_result"
    }
   ],
   "source": [
    "df.shape"
   ]
  },
  {
   "cell_type": "code",
   "execution_count": 6,
   "id": "878fa84a",
   "metadata": {},
   "outputs": [
    {
     "data": {
      "text/plain": [
       "0         3.8\n",
       "1         3.7\n",
       "2         3.7\n",
       "3         3.9\n",
       "4         4.0\n",
       "         ... \n",
       "137417    2.0\n",
       "137418    1.7\n",
       "137419    1.8\n",
       "137420    1.7\n",
       "137421    1.4\n",
       "Name: WindSpeed10m, Length: 137422, dtype: float64"
      ]
     },
     "execution_count": 6,
     "metadata": {},
     "output_type": "execute_result"
    }
   ],
   "source": [
    "df['WindSpeed10m']"
   ]
  },
  {
   "cell_type": "code",
   "execution_count": 8,
   "id": "e424e03d",
   "metadata": {},
   "outputs": [
    {
     "data": {
      "image/png": "[encoded data removed]",
      "text/plain": [
       "<Figure size 1200x500 with 1 Axes>"
      ]
     },
     "metadata": {},
     "output_type": "display_data"
    }
   ],
   "source": [
    "plt.figure(figsize=(12, 5))\n",
    "plt.plot(df['PeriodEnd'], df['WindSpeed10m'], label='WindSpeed10m')\n",
    "plt.xlabel('Time')\n",
    "plt.ylabel('Wind Speed (m/s)')\n",
    "plt.title('Wind Speed Time Series')\n",
    "plt.legend()\n",
    "plt.grid(True)\n",
    "plt.show()"
   ]
  },
  {
   "cell_type": "code",
   "execution_count": null,
   "id": "e760610a",
   "metadata": {},
   "outputs": [],
   "source": []
  }
 ],
 "metadata": {
  "kernelspec": {
   "display_name": "Python 3",
   "language": "python",
   "name": "python3"
  },
  "language_info": {
   "codemirror_mode": {
    "name": "ipython",
    "version": 3
   },
   "file_extension": ".py",
   "mimetype": "text/x-python",
   "name": "python",
   "nbconvert_exporter": "python",
   "pygments_lexer": "ipython3",
   "version": "3.13.2"
  }
 },
 "nbformat": 4,
 "nbformat_minor": 5
}
